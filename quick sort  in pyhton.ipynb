{
 "cells": [
  {
   "cell_type": "code",
   "execution_count": 1,
   "metadata": {},
   "outputs": [],
   "source": [
    "def quick_sort(list2):\n",
    "    quick_sort_r(list2, 0, len(list2) - 1)\n",
    "\n",
    "# quick_sort_r, recursive (used by quick_sort)\n",
    "def quick_sort_r(list2 , first, last):\n",
    "    if last > first:\n",
    "        pivot = partition(list2, first, last)\n",
    "        quick_sort_r(list2, first, pivot - 1)\n",
    "        quick_sort_r(list2, pivot + 1, last)\n",
    "\n",
    "# partition (used by quick_sort_r)\n",
    "def partition(list2, first, last):\n",
    "    sred = (first + last)/2\n",
    "    if list2[first] > list2 [sred]:\n",
    "        list2[first], list2[sred] = list2[sred], list2[first]  # swap\n",
    "    if list2[first] > list2 [last]:\n",
    "        list2[first], list2[last] = list2[last], list2[first]  # swap\n",
    "    if list2[sred] > list2[last]:\n",
    "        list2[sred], list2[last] = list2[last], list2[sred]    # swap\n",
    "    list2 [sred], list2 [first] = list2[first], list2[sred]    # swap\n",
    "    pivot = first\n",
    "    i = first + 1\n",
    "    j = last\n",
    "  \n",
    "    while True:\n",
    "        while i <= last and list2[i] <= list2[pivot]:\n",
    "            i += 1\n",
    "        while j >= first and list2[j] > list2[pivot]:\n",
    "            j -= 1\n",
    "        if i >= j:\n",
    "            break\n",
    "        else:\n",
    "            list2[i], list2[j] = list2[j], list2[i]  # swap\n",
    "    list2[j], list2[pivot] = list2[pivot], list2[j]  # swap\n",
    "    return j"
   ]
  },
  {
   "cell_type": "code",
   "execution_count": null,
   "metadata": {},
   "outputs": [],
   "source": []
  }
 ],
 "metadata": {
  "kernelspec": {
   "display_name": "Python 3",
   "language": "python",
   "name": "python3"
  },
  "language_info": {
   "codemirror_mode": {
    "name": "ipython",
    "version": 3
   },
   "file_extension": ".py",
   "mimetype": "text/x-python",
   "name": "python",
   "nbconvert_exporter": "python",
   "pygments_lexer": "ipython3",
   "version": "3.7.4"
  }
 },
 "nbformat": 4,
 "nbformat_minor": 2
}
